{
 "cells": [
  {
   "cell_type": "markdown",
   "id": "2ccd2397-9d23-4a51-aa99-6fce9af183a8",
   "metadata": {},
   "source": [
    "## ใบงานที่1 : การบ้านผ่าน Git"
   ]
  },
  {
   "cell_type": "raw",
   "id": "f3ec1303-dca4-41f7-b397-fa2ebf610a73",
   "metadata": {},
   "source": [
    "นาย วัณณุวรรธน์ ศรีวงศ์แผน 6512732108"
   ]
  },
  {
   "cell_type": "code",
   "execution_count": 1,
   "id": "b2890d01-d030-422d-aed8-b146f36fcfe2",
   "metadata": {},
   "outputs": [
    {
     "name": "stdout",
     "output_type": "stream",
     "text": [
      "Hello World\n"
     ]
    }
   ],
   "source": [
    "print(\"Hello World\")"
   ]
  },
  {
   "cell_type": "code",
   "execution_count": null,
   "id": "5f078573-4fa6-4652-9906-fd21512bd79b",
   "metadata": {},
   "outputs": [],
   "source": []
  }
 ],
 "metadata": {
  "kernelspec": {
   "display_name": "Python 3 (ipykernel)",
   "language": "python",
   "name": "python3"
  },
  "language_info": {
   "codemirror_mode": {
    "name": "ipython",
    "version": 3
   },
   "file_extension": ".py",
   "mimetype": "text/x-python",
   "name": "python",
   "nbconvert_exporter": "python",
   "pygments_lexer": "ipython3",
   "version": "3.9.13"
  }
 },
 "nbformat": 4,
 "nbformat_minor": 5
}
